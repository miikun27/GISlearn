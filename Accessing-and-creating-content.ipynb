{
 "cells": [
  {
   "cell_type": "markdown",
   "metadata": {},
   "source": [
    "# Accessing and creating content\n",
    "\n",
    "In this page, we are going to observe how the following can be accomplished:\n",
    " * [Searching for content](#searching-for-content)\n",
    "  * [Wild card search](#wild-card-search)\n",
    "  * [Searching for content outside your organization](#searching-for-content-outside-your-org)\n",
    " * [Creating new content](#creating-new-content)\n",
    "  * [Publishing an item as a web layer](#publishing-an-item-as-a-web-layer)\n",
    "  * [Importing data from a pandas dataframe](#importing-data-from-a-pandas-data-frame)\n",
    " * [Routing analysis](#Routing-Analysis)\n",
    " * [Using folders to organize your content](#using-folders-to-organize-your-content)"
   ]
  },
  {
   "cell_type": "markdown",
   "metadata": {},
   "source": [
    "<a id=\"searching-for-content\"></a>\n",
    "## Searching for content"
   ]
  },
  {
   "cell_type": "markdown",
   "metadata": {},
   "source": [
    "The first step is to import the API and connect to your GIS"
   ]
  },
  {
   "cell_type": "code",
   "execution_count": 1,
   "metadata": {},
   "outputs": [
    {
     "name": "stdout",
     "output_type": "stream",
     "text": [
      "Populating the interactive namespace from numpy and matplotlib\n"
     ]
    }
   ],
   "source": [
    "%pylab inline\n",
    "from arcgis.gis import GIS"
   ]
  },
  {
   "cell_type": "code",
   "execution_count": 2,
   "metadata": {},
   "outputs": [],
   "source": [
    "#we're connecting to ArcGIS Online as an anonymous user:\n",
    "gis=GIS()"
   ]
  },
  {
   "cell_type": "code",
   "execution_count": 3,
   "metadata": {},
   "outputs": [
    {
     "data": {
      "text/plain": [
       "<arcgis.gis.ContentManager at 0x22c7e495a58>"
      ]
     },
     "execution_count": 3,
     "metadata": {},
     "output_type": "execute_result"
    }
   ],
   "source": [
    "gis.content\n",
    "#Users call methods on this 'content' object to manipulate (create, get, search,etc) items.\n",
    "# we never use the create property"
   ]
  },
  {
   "cell_type": "code",
   "execution_count": 4,
   "metadata": {},
   "outputs": [],
   "source": [
    "search_result = gis.content.search(query=\"title:避難\")"
   ]
  },
  {
   "cell_type": "code",
   "execution_count": 5,
   "metadata": {},
   "outputs": [
    {
     "data": {
      "text/plain": [
       "[<Item title:\"避難施設データ/Evacuation_Shelter\" type:Feature Layer Collection owner:Esri_Japan>,\n",
       " <Item title:\"(4)災害対応:避難所(Evacuation Sites)\" type:Web Map owner:EMT2011>,\n",
       " <Item title:\"避難所管理・開設時のサポート\" type:Web Map owner:EJgove>,\n",
       " <Item title:\"避難施設レイヤ\" type:Feature Layer Collection owner:EJgove>,\n",
       " <Item title:\"K186_L2_0.5h_避難所安全度\" type:Web Map owner:g17tc004>,\n",
       " <Item title:\"デモ避難所Test_nawa\" type:Code Attachment owner:EJgove>,\n",
       " <Item title:\"市区町村別避難者数/避難者割合 (北海道, 第26報, 9/12 20:00)\" type:Feature Layer Collection owner:NIED_CRS@bosai>,\n",
       " <Item title:\"G-mottyとG空間情報センターとの連携テスト（G空間情報センターが公開する指定避難場所データ）\" type:Web Map owner:kaogja8060_kitakyushu>,\n",
       " <Item title:\"糸島市指定避難所(20150228作成)_151228\" type:Map Image Layer owner:kyushu_u>,\n",
       " <Item title:\"県別避難者数・避難所数（総務省消防庁被害状況_第11報）\" type:Code Attachment owner:NIED_CRS@bosai>]"
      ]
     },
     "execution_count": 5,
     "metadata": {},
     "output_type": "execute_result"
    }
   ],
   "source": [
    "search_result"
   ]
  },
  {
   "cell_type": "markdown",
   "metadata": {},
   "source": [
    "The `search()` method returned us a list of `Item` objects that matched the search criteria. The `query` parameter supports a variety of inputs, refer the [**search reference**](http://resources.arcgis.com/en/help/arcgis-rest-api/#/Search_reference/02r3000000mn000000/) for more ideas on what is supported. Some typical examples are shown below:"
   ]
  },
  {
   "cell_type": "code",
   "execution_count": 6,
   "metadata": {},
   "outputs": [
    {
     "data": {
      "text/plain": [
       "[<Item title:\"Chord Diagram 1\" type:Feature Layer Collection owner:helent_biz>,\n",
       " <Item title:\"Harjoitus_fieldworker\" type:Feature Layer Collection owner:hirvoha>,\n",
       " <Item title:\"ArcMap ve ArcGIS Pro Arasındaki Temel Farklar Çalıştay Anketi_fieldworker\" type:Feature Layer Collection owner:kkumru>,\n",
       " <Item title:\"Lambeth_HH_Proj\" type:Feature Layer Collection owner:GrahamGeowise>,\n",
       " <Item title:\"Tai_Kok_Tsui_Land_Use_1493201781559\" type:Feature Layer Collection owner:s1201042@smcesps.edu.hk>,\n",
       " <Item title:\"Lekplatsen_fieldworker\" type:Feature Layer Collection owner:cdh1965_agyskolan>,\n",
       " <Item title:\"d7a11947-0e59-4041-a441-34f42e1f19f8\" type:Feature Layer Collection owner:LocationOne>,\n",
       " <Item title:\"Richmond_upon_Thames_Pop_Proj_GLA_5YR_Persons_Rate\" type:Feature Layer Collection owner:GrahamGeowise>,\n",
       " <Item title:\"King County Regional GIS HUB_fieldworker\" type:Feature Layer Collection owner:TJA_Community>,\n",
       " <Item title:\"E_STORY_MAP_SGC2015_CD_I_PR_BF\" type:Feature Layer Collection owner:sgcadmin>,\n",
       " <Item title:\"Saldus gaisa kvalitāte 2_fieldworker\" type:Feature Layer Collection owner:brita.vespere>,\n",
       " <Item title:\"Esri Software Needs Survey_fieldworker\" type:Feature Layer Collection owner:Pratibha.Basrao@hdrinc.com_HDR>]"
      ]
     },
     "execution_count": 6,
     "metadata": {},
     "output_type": "execute_result"
    }
   ],
   "source": [
    "# search and list all feature layers in my contents\n",
    "search_result = gis.content.search(query=\"\", item_type=\"Feature Layer\",sort_field=\"numViews\",\n",
    "                                   sort_order=\"asc\", max_items = 12)"
   ]
  },
  {
   "cell_type": "code",
   "execution_count": null,
   "metadata": {},
   "outputs": [],
   "source": [
    "search_result[1]"
   ]
  },
  {
   "cell_type": "markdown",
   "metadata": {},
   "source": [
    "<a id=\"wild-card-search\"></a>\n",
    "### Wild card search\n",
    "Search supports usage of wild cards. You can use one asterisk `*` for multiple character wild card search and one question mark `?` for single character."
   ]
  },
  {
   "cell_type": "code",
   "execution_count": null,
   "metadata": {},
   "outputs": [],
   "source": [
    "# search for content that begin with a prefix - say 'USA'\n",
    "search_result_USA = gis.content.search(query=\"title:USA*\")\n",
    "search_result_USA"
   ]
  },
  {
   "cell_type": "code",
   "execution_count": null,
   "metadata": {},
   "outputs": [],
   "source": [
    "from IPython.display import display\n",
    "for item in search_result_USA[2:5]:\n",
    "    display(item)"
   ]
  },
  {
   "cell_type": "markdown",
   "metadata": {},
   "source": [
    "Once you know an item's id (called `itemId`), you can access it using the `get()` method instead of searching for it."
   ]
  },
  {
   "cell_type": "code",
   "execution_count": null,
   "metadata": {},
   "outputs": [],
   "source": [
    "# lets get the itemid of first item from previous query\n",
    "first_item = search_result_USA[0]\n",
    "known_item_id = first_item.id\n",
    "print(known_item_id)"
   ]
  },
  {
   "cell_type": "code",
   "execution_count": null,
   "metadata": {},
   "outputs": [],
   "source": [
    "# lets use the get() to access this item\n",
    "online_banking_item = gis.content.get(known_item_id)\n",
    "online_banking_item"
   ]
  },
  {
   "cell_type": "code",
   "execution_count": null,
   "metadata": {},
   "outputs": [],
   "source": []
  },
  {
   "cell_type": "markdown",
   "metadata": {},
   "source": [
    "<a id=\"searching-for-content-outside-your-org\"></a>\n",
    "### Searching for content outside your organization\n",
    "So far, we were able to search for content that belonged to other named users but shared across the organization. When connected to ArcGIS Online, you can also search for content published by other named users and shared publicly. You can do so by turning the **`outside_org`** flag to `True`."
   ]
  },
  {
   "cell_type": "code",
   "execution_count": 7,
   "metadata": {},
   "outputs": [
    {
     "name": "stdout",
     "output_type": "stream",
     "text": [
      "password pls········\n"
     ]
    }
   ],
   "source": [
    "#kuaile180603\n",
    "import getpass\n",
    "developersUser = 'xiaoya_gis'\n",
    "developersPass =getpass.getpass(prompt='password pls')\n",
    "gis2 = GIS(\"https://www.arcgis.com\",develoersUser,develoersPass)"
   ]
  },
  {
   "cell_type": "code",
   "execution_count": 31,
   "metadata": {},
   "outputs": [
    {
     "data": {
      "text/html": [
       "<div class=\"9item_container\" style=\"height: auto; overflow: hidden; border: 1px solid #cfcfcf; border-radius: 2px; background: #f6fafa; line-height: 1.21429em; padding: 10px;\">\n",
       "                    <div class=\"item_left\" style=\"width: 210px; float: left;\">\n",
       "                       <a href='https://xiaoya-gis.maps.arcgis.com/home/user.html?user=xiaoya_gis' target='_blank'>\n",
       "                        <img src='https://xiaoya-gis.maps.arcgis.com/home/js/arcgisonline/css/images/no-user-thumb.jpg' class=\"itemThumbnail\">\n",
       "                       </a>\n",
       "                    </div>\n",
       "\n",
       "                    <div class=\"item_right\" style=\"float: none; width: auto; overflow: hidden;\">\n",
       "                        <a href='https://xiaoya-gis.maps.arcgis.com/home/user.html?user=xiaoya_gis' target='_blank'><b>xiaoya zhang</b>\n",
       "                        </a>\n",
       "                        <br/><br/><b>Bio</b>: None\n",
       "                        <br/><b>First Name</b>: xiaoya\n",
       "                        <br/><b>Last Name</b>: zhang\n",
       "                        <br/><b>Username</b>: xiaoya_gis\n",
       "                        <br/><b>Joined</b>: April 24, 2019\n",
       "\n",
       "                    </div>\n",
       "                </div>\n",
       "                "
      ],
      "text/plain": [
       "<User username:xiaoya_gis>"
      ]
     },
     "execution_count": 31,
     "metadata": {},
     "output_type": "execute_result"
    }
   ],
   "source": [
    "user = gis2.users.get(developersUser)\n",
    "user"
   ]
  },
  {
   "cell_type": "markdown",
   "metadata": {},
   "source": [
    "Let us search for public web scenes visualizing 3D cities. Note, I want to see content that is most popular by number of views to be returned on the top. I am also concerned that if too many items show up, the query might be running slow, hence restrict the results to 5 items."
   ]
  },
  {
   "cell_type": "code",
   "execution_count": null,
   "metadata": {},
   "outputs": [],
   "source": [
    "public_3d_city_scenes = gis2.content.search(query=\"3d cities\", item_type = \"web scene\",\n",
    "                                           sort_field=\"numViews\" ,sort_order=\"asc\",\n",
    "                                           max_items = 5, outside_org=True)\n",
    "for item in public_3d_city_scenes:\n",
    "    display(item)"
   ]
  },
  {
   "cell_type": "markdown",
   "metadata": {},
   "source": [
    "### Deleting content\n",
    "You can delete any item using the delete() method of the Item object. When deleting a hosted layer, this operation also deletes the hosted services powering the item."
   ]
  },
  {
   "cell_type": "code",
   "execution_count": null,
   "metadata": {},
   "outputs": [],
   "source": [
    "search_result = gis2.content.search(query=\"\")\n",
    "search_result"
   ]
  },
  {
   "cell_type": "code",
   "execution_count": null,
   "metadata": {},
   "outputs": [],
   "source": [
    "for i in search_result:\n",
    "    i.delete()"
   ]
  },
  {
   "cell_type": "markdown",
   "metadata": {},
   "source": [
    "So far, you observed how existing items can be searched and accessed using the `gis` module. Next, let us observe how new content can be created.\n",
    "\n",
    "<a id=\"creating-new-content\"></a>\n",
    "## Creating new content\n",
    "\n",
    "To create new items on your GIS, you use the `add()` method on `ContentManager` object. As earlier, you would not create this object, instead access it from the `content` property of your `GIS` object.\n",
    "\n",
    "The `add()` method accepts a dictionary containing the properties of the item to be created. The optional `data` parameter accepts a string path to a file. \n",
    "All content you add this way is added to the authenticated user's contents. \n",
    "Let us add a csv file and publish it as a feature layer."
   ]
  },
  {
   "cell_type": "code",
   "execution_count": 8,
   "metadata": {},
   "outputs": [],
   "source": [
    "#https://www.geospatial.jp/ckan/dataset\n",
    "#https://www.geospatial.jp/ckan/dataset/d6a87e42-6e86-449e-9d76-1e40319bb99b/resource/b5d633c8-f2c8-4baa-88a9-fcf1872dcfcd\n",
    "csv_file = 'https://www.geospatial.jp/ckan/dataset/d6a87e42-6e86-449e-9d76-1e40319bb99b/resource/b5d633c8-f2c8-4baa-88a9-fcf1872dcfcd/download/724522014tochiginodamsyogen04033.csv'\n",
    "csv_properties={'title':'栃木のダム諸元表',\n",
    "                'description':'blahblahlalala',\n",
    "                'tags':'arcgis, python, dam'}\n",
    "thumbnail_path = r\"Kerr-dam-1_resize_md.jpg\"\n",
    "csv_item = gis2.content.add(item_properties=csv_properties, data=csv_file,\n",
    "                                     thumbnail = thumbnail_path)"
   ]
  },
  {
   "cell_type": "markdown",
   "metadata": {},
   "source": [
    "The `add()` method returns an object of type `arcgis.gis.Item` representing the added item. In Jupyter notebook environment, you can visualize it by querying the item"
   ]
  },
  {
   "cell_type": "code",
   "execution_count": 9,
   "metadata": {},
   "outputs": [
    {
     "data": {
      "text/html": [
       "<div class=\"item_container\" style=\"height: auto; overflow: hidden; border: 1px solid #cfcfcf; border-radius: 2px; background: #f6fafa; line-height: 1.21429em; padding: 10px;\">\n",
       "                    <div class=\"item_left\" style=\"width: 210px; float: left;\">\n",
       "                       <a href='https://xiaoya-gis.maps.arcgis.com/home/item.html?id=c87f3c72b6524cc982daa6834f6f098f' target='_blank'>\n",
       "                        <img src='data:image/png;base64,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' width='200' height='133' class=\"itemThumbnail\">\n",
       "                       </a>\n",
       "                    </div>\n",
       "\n",
       "                    <div class=\"item_right\"     style=\"float: none; width: auto; overflow: hidden;\">\n",
       "                        <a href='https://xiaoya-gis.maps.arcgis.com/home/item.html?id=c87f3c72b6524cc982daa6834f6f098f' target='_blank'><b>栃木のダム諸元表</b>\n",
       "                        </a>\n",
       "                        <br/><img src='https://xiaoya-gis.maps.arcgis.com/home/js/jsapi/esri/css/images/item_type_icons/layers16.png' style=\"vertical-align:middle;\">CSV by xiaoya_gis\n",
       "                        <br/>Last Modified: April 25, 2019\n",
       "                        <br/>0 comments, 0 views\n",
       "                    </div>\n",
       "                </div>\n",
       "                "
      ],
      "text/plain": [
       "<Item title:\"栃木のダム諸元表\" type:CSV owner:xiaoya_gis>"
      ]
     },
     "metadata": {},
     "output_type": "display_data"
    }
   ],
   "source": [
    "display(csv_item)"
   ]
  },
  {
   "cell_type": "markdown",
   "metadata": {},
   "source": [
    "<a id=\"publishing-an-item-as-a-web-layer\"></a>\n",
    "### Publishing an item as a web layer\n",
    " Items such as csv can be published into hosted web layers. This is accomplished by calling the `publish()` method on that `Item` object.\n",
    "\n",
    "The `publish()` method accepts an optional `publish_parameters` dictionary where you can specify certain parameters. However it is also optional."
   ]
  },
  {
   "cell_type": "code",
   "execution_count": 10,
   "metadata": {},
   "outputs": [
    {
     "data": {
      "text/html": [
       "<div class=\"item_container\" style=\"height: auto; overflow: hidden; border: 1px solid #cfcfcf; border-radius: 2px; background: #f6fafa; line-height: 1.21429em; padding: 10px;\">\n",
       "                    <div class=\"item_left\" style=\"width: 210px; float: left;\">\n",
       "                       <a href='https://xiaoya-gis.maps.arcgis.com/home/item.html?id=771bdeebfaeb4575a728ed304b4c3b05' target='_blank'>\n",
       "                        <img src='data:image/png;base64,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' width='200' height='133' class=\"itemThumbnail\">\n",
       "                       </a>\n",
       "                    </div>\n",
       "\n",
       "                    <div class=\"item_right\"     style=\"float: none; width: auto; overflow: hidden;\">\n",
       "                        <a href='https://xiaoya-gis.maps.arcgis.com/home/item.html?id=771bdeebfaeb4575a728ed304b4c3b05' target='_blank'><b>栃木のダム諸元表</b>\n",
       "                        </a>\n",
       "                        <br/><img src='https://xiaoya-gis.maps.arcgis.com/home/js/jsapi/esri/css/images/item_type_icons/featureshosted16.png' style=\"vertical-align:middle;\">Feature Layer Collection by xiaoya_gis\n",
       "                        <br/>Last Modified: April 25, 2019\n",
       "                        <br/>0 comments, 0 views\n",
       "                    </div>\n",
       "                </div>\n",
       "                "
      ],
      "text/plain": [
       "<Item title:\"栃木のダム諸元表\" type:Feature Layer Collection owner:xiaoya_gis>"
      ]
     },
     "metadata": {},
     "output_type": "display_data"
    }
   ],
   "source": [
    "csv_lyr = csv_item.publish({'name':'栃木のダム','locationType':'coordinates', 'latitudeFieldName':'緯度', 'longitudeFieldName':'経度'})\n",
    "display(csv_lyr)"
   ]
  },
  {
   "cell_type": "markdown",
   "metadata": {
    "collapsed": true
   },
   "source": [
    "<a id=\"importing-data-from-a-pandas-data-frame\"></a>\n",
    "### Importing data from a pandas data frame\n",
    "\n",
    "Using the Python API, you can import such Pandas data frames using the `import_data()` method. You can then add that feature collection as an item to your GIS.\n",
    "\n",
    " we could publish the csv as an item as shown earlier, but we will try to modify data through pandas and add it as a feature collection instead."
   ]
  },
  {
   "cell_type": "code",
   "execution_count": 11,
   "metadata": {},
   "outputs": [],
   "source": [
    "# read excel as a pandas dataframe\n",
    "import pandas as pd\n",
    "from arcgis.geocoding import geocode\n",
    "file=pd.read_excel('https://www.geospatial.jp/ckan/dataset/e8e894e0-a18b-46cd-96e8-ad97ca976a15/resource/a0669bcd-063c-4074-8f8a-e4459227961e/download/2.xlsx')"
   ]
  },
  {
   "cell_type": "code",
   "execution_count": 12,
   "metadata": {},
   "outputs": [
    {
     "data": {
      "text/html": [
       "<div>\n",
       "<style scoped>\n",
       "    .dataframe tbody tr th:only-of-type {\n",
       "        vertical-align: middle;\n",
       "    }\n",
       "\n",
       "    .dataframe tbody tr th {\n",
       "        vertical-align: top;\n",
       "    }\n",
       "\n",
       "    .dataframe thead th {\n",
       "        text-align: right;\n",
       "    }\n",
       "</style>\n",
       "<table border=\"1\" class=\"dataframe\">\n",
       "  <thead>\n",
       "    <tr style=\"text-align: right;\">\n",
       "      <th></th>\n",
       "      <th>名称</th>\n",
       "      <th>所在地</th>\n",
       "      <th>緯度（10進法）</th>\n",
       "      <th>緯度（60進法）</th>\n",
       "      <th>経度（10進法）</th>\n",
       "      <th>経度（60進法）</th>\n",
       "    </tr>\n",
       "  </thead>\n",
       "  <tbody>\n",
       "    <tr>\n",
       "      <th>0</th>\n",
       "      <td>調布基地跡地運動広場及び大沢総合グラウンド一部</td>\n",
       "      <td>調布市西町</td>\n",
       "      <td>35.668392</td>\n",
       "      <td>35゜40'06.21\"</td>\n",
       "      <td>139.526484</td>\n",
       "      <td>139゜31'35.34\"</td>\n",
       "    </tr>\n",
       "    <tr>\n",
       "      <th>1</th>\n",
       "      <td>都立神代植物公園周辺及び自由広場</td>\n",
       "      <td>調布市深大寺元町5-31-10</td>\n",
       "      <td>35.670815</td>\n",
       "      <td>35゜40'14.93\"</td>\n",
       "      <td>139.549247</td>\n",
       "      <td>139゜32'57.29\"</td>\n",
       "    </tr>\n",
       "    <tr>\n",
       "      <th>2</th>\n",
       "      <td>多摩川河川敷（第１区）周辺（府中市境～多摩川原橋）</td>\n",
       "      <td>調布市多摩川2-7</td>\n",
       "      <td>35.645660</td>\n",
       "      <td>35゜38'44.38\"</td>\n",
       "      <td>139.525410</td>\n",
       "      <td>139゜31'31.48\"</td>\n",
       "    </tr>\n",
       "    <tr>\n",
       "      <th>3</th>\n",
       "      <td>多摩川河川敷（第２区）周辺（多摩川原橋～二ヶ領堰）</td>\n",
       "      <td>調布市多摩川5-32</td>\n",
       "      <td>35.640837</td>\n",
       "      <td>35゜38'27.01\"</td>\n",
       "      <td>139.537489</td>\n",
       "      <td>139゜32'14.96\"</td>\n",
       "    </tr>\n",
       "    <tr>\n",
       "      <th>4</th>\n",
       "      <td>多摩川河川敷（第３区）周辺（二ヶ領堰～狛江市境）</td>\n",
       "      <td>調布市染地2-51</td>\n",
       "      <td>35.636687</td>\n",
       "      <td>35゜38'12.07\"</td>\n",
       "      <td>139.553918</td>\n",
       "      <td>139゜33'14.10\"</td>\n",
       "    </tr>\n",
       "  </tbody>\n",
       "</table>\n",
       "</div>"
      ],
      "text/plain": [
       "                          名称              所在地   緯度（10進法）      緯度（60進法）  \\\n",
       "0    調布基地跡地運動広場及び大沢総合グラウンド一部            調布市西町  35.668392  35゜40'06.21\"   \n",
       "1           都立神代植物公園周辺及び自由広場  調布市深大寺元町5-31-10  35.670815  35゜40'14.93\"   \n",
       "2  多摩川河川敷（第１区）周辺（府中市境～多摩川原橋）        調布市多摩川2-7  35.645660  35゜38'44.38\"   \n",
       "3  多摩川河川敷（第２区）周辺（多摩川原橋～二ヶ領堰）       調布市多摩川5-32  35.640837  35゜38'27.01\"   \n",
       "4   多摩川河川敷（第３区）周辺（二ヶ領堰～狛江市境）        調布市染地2-51  35.636687  35゜38'12.07\"   \n",
       "\n",
       "     経度（10進法）       経度（60進法）  \n",
       "0  139.526484  139゜31'35.34\"  \n",
       "1  139.549247  139゜32'57.29\"  \n",
       "2  139.525410  139゜31'31.48\"  \n",
       "3  139.537489  139゜32'14.96\"  \n",
       "4  139.553918  139゜33'14.10\"  "
      ]
     },
     "execution_count": 12,
     "metadata": {},
     "output_type": "execute_result"
    }
   ],
   "source": [
    "file.head()"
   ]
  },
  {
   "cell_type": "code",
   "execution_count": 13,
   "metadata": {},
   "outputs": [],
   "source": [
    "#river_site=file[file['名称'].str.contains('多摩川')] # some preporcessing \n",
    "river_site=file"
   ]
  },
  {
   "cell_type": "code",
   "execution_count": 14,
   "metadata": {},
   "outputs": [
    {
     "data": {
      "text/html": [
       "<div>\n",
       "<style scoped>\n",
       "    .dataframe tbody tr th:only-of-type {\n",
       "        vertical-align: middle;\n",
       "    }\n",
       "\n",
       "    .dataframe tbody tr th {\n",
       "        vertical-align: top;\n",
       "    }\n",
       "\n",
       "    .dataframe thead th {\n",
       "        text-align: right;\n",
       "    }\n",
       "</style>\n",
       "<table border=\"1\" class=\"dataframe\">\n",
       "  <thead>\n",
       "    <tr style=\"text-align: right;\">\n",
       "      <th></th>\n",
       "      <th>名称</th>\n",
       "      <th>所在地</th>\n",
       "      <th>緯度（10進法）</th>\n",
       "      <th>緯度（60進法）</th>\n",
       "      <th>経度（10進法）</th>\n",
       "      <th>経度（60進法）</th>\n",
       "    </tr>\n",
       "  </thead>\n",
       "  <tbody>\n",
       "    <tr>\n",
       "      <th>0</th>\n",
       "      <td>調布基地跡地運動広場及び大沢総合グラウンド一部</td>\n",
       "      <td>調布市西町</td>\n",
       "      <td>35.668392</td>\n",
       "      <td>35゜40'06.21\"</td>\n",
       "      <td>139.526484</td>\n",
       "      <td>139゜31'35.34\"</td>\n",
       "    </tr>\n",
       "    <tr>\n",
       "      <th>1</th>\n",
       "      <td>都立神代植物公園周辺及び自由広場</td>\n",
       "      <td>調布市深大寺元町5-31-10</td>\n",
       "      <td>35.670815</td>\n",
       "      <td>35゜40'14.93\"</td>\n",
       "      <td>139.549247</td>\n",
       "      <td>139゜32'57.29\"</td>\n",
       "    </tr>\n",
       "    <tr>\n",
       "      <th>2</th>\n",
       "      <td>多摩川河川敷（第１区）周辺（府中市境～多摩川原橋）</td>\n",
       "      <td>調布市多摩川2-7</td>\n",
       "      <td>35.645660</td>\n",
       "      <td>35゜38'44.38\"</td>\n",
       "      <td>139.525410</td>\n",
       "      <td>139゜31'31.48\"</td>\n",
       "    </tr>\n",
       "    <tr>\n",
       "      <th>3</th>\n",
       "      <td>多摩川河川敷（第２区）周辺（多摩川原橋～二ヶ領堰）</td>\n",
       "      <td>調布市多摩川5-32</td>\n",
       "      <td>35.640837</td>\n",
       "      <td>35゜38'27.01\"</td>\n",
       "      <td>139.537489</td>\n",
       "      <td>139゜32'14.96\"</td>\n",
       "    </tr>\n",
       "    <tr>\n",
       "      <th>4</th>\n",
       "      <td>多摩川河川敷（第３区）周辺（二ヶ領堰～狛江市境）</td>\n",
       "      <td>調布市染地2-51</td>\n",
       "      <td>35.636687</td>\n",
       "      <td>35゜38'12.07\"</td>\n",
       "      <td>139.553918</td>\n",
       "      <td>139゜33'14.10\"</td>\n",
       "    </tr>\n",
       "  </tbody>\n",
       "</table>\n",
       "</div>"
      ],
      "text/plain": [
       "                          名称              所在地   緯度（10進法）      緯度（60進法）  \\\n",
       "0    調布基地跡地運動広場及び大沢総合グラウンド一部            調布市西町  35.668392  35゜40'06.21\"   \n",
       "1           都立神代植物公園周辺及び自由広場  調布市深大寺元町5-31-10  35.670815  35゜40'14.93\"   \n",
       "2  多摩川河川敷（第１区）周辺（府中市境～多摩川原橋）        調布市多摩川2-7  35.645660  35゜38'44.38\"   \n",
       "3  多摩川河川敷（第２区）周辺（多摩川原橋～二ヶ領堰）       調布市多摩川5-32  35.640837  35゜38'27.01\"   \n",
       "4   多摩川河川敷（第３区）周辺（二ヶ領堰～狛江市境）        調布市染地2-51  35.636687  35゜38'12.07\"   \n",
       "\n",
       "     経度（10進法）       経度（60進法）  \n",
       "0  139.526484  139゜31'35.34\"  \n",
       "1  139.549247  139゜32'57.29\"  \n",
       "2  139.525410  139゜31'31.48\"  \n",
       "3  139.537489  139゜32'14.96\"  \n",
       "4  139.553918  139゜33'14.10\"  "
      ]
     },
     "execution_count": 14,
     "metadata": {},
     "output_type": "execute_result"
    }
   ],
   "source": [
    "river_site.head()"
   ]
  },
  {
   "cell_type": "markdown",
   "metadata": {},
   "source": [
    "Now that we have the desired data frame, let us import that as a feature collection"
   ]
  },
  {
   "cell_type": "code",
   "execution_count": 15,
   "metadata": {},
   "outputs": [
    {
     "data": {
      "text/plain": [
       "<FeatureCollection>"
      ]
     },
     "execution_count": 15,
     "metadata": {},
     "output_type": "execute_result"
    }
   ],
   "source": [
    "river_f = gis2.content.import_data(river_site,address_fields={\"Address\":\"所在地\"})\n",
    "river_f"
   ]
  },
  {
   "cell_type": "markdown",
   "metadata": {},
   "source": [
    "Next step is to convert the feature collection to a JSON and add it as a text based item to the GIS"
   ]
  },
  {
   "cell_type": "code",
   "execution_count": 16,
   "metadata": {},
   "outputs": [],
   "source": [
    "import json\n",
    "river_dict = dict(river_f.properties)"
   ]
  },
  {
   "cell_type": "code",
   "execution_count": 17,
   "metadata": {},
   "outputs": [],
   "source": [
    "#edu_fc.properties\n",
    "river_json=json.dumps({\"featureCollection\": {\"layers\": [river_dict]}})"
   ]
  },
  {
   "cell_type": "code",
   "execution_count": 18,
   "metadata": {},
   "outputs": [],
   "source": [
    "river_item_properties = {'title': '広域避難場所',\n",
    "                        'description':'Example demonstrating conversion of pandas ' ,\n",
    "                        'tags': 'arcgis python api, pandas',\n",
    "                        'text':river_json,\n",
    "                        'type':'Feature Collection'}\n",
    "river_item = gis2.content.add(river_item_properties)"
   ]
  },
  {
   "cell_type": "code",
   "execution_count": 19,
   "metadata": {},
   "outputs": [],
   "source": [
    "river_feature_layer_item=river_item.publish({'name':'広域避難場所','locationType':'address','addressTemplate':'所在地'})"
   ]
  },
  {
   "cell_type": "code",
   "execution_count": 20,
   "metadata": {},
   "outputs": [
    {
     "data": {
      "text/html": [
       "<div class=\"item_container\" style=\"height: auto; overflow: hidden; border: 1px solid #cfcfcf; border-radius: 2px; background: #f6fafa; line-height: 1.21429em; padding: 10px;\">\n",
       "                    <div class=\"item_left\" style=\"width: 210px; float: left;\">\n",
       "                       <a href='https://xiaoya-gis.maps.arcgis.com/home/item.html?id=02113c45b0ea45e988692a47a0a0d0ac' target='_blank'>\n",
       "                        <img src='http://static.arcgis.com/images/desktopapp.png' class=\"itemThumbnail\">\n",
       "                       </a>\n",
       "                    </div>\n",
       "\n",
       "                    <div class=\"item_right\"     style=\"float: none; width: auto; overflow: hidden;\">\n",
       "                        <a href='https://xiaoya-gis.maps.arcgis.com/home/item.html?id=02113c45b0ea45e988692a47a0a0d0ac' target='_blank'><b>広域避難場所</b>\n",
       "                        </a>\n",
       "                        <br/><img src='https://xiaoya-gis.maps.arcgis.com/home/js/jsapi/esri/css/images/item_type_icons/featureshosted16.png' style=\"vertical-align:middle;\">Feature Layer Collection by xiaoya_gis\n",
       "                        <br/>Last Modified: April 25, 2019\n",
       "                        <br/>0 comments, 0 views\n",
       "                    </div>\n",
       "                </div>\n",
       "                "
      ],
      "text/plain": [
       "<Item title:\"広域避難場所\" type:Feature Layer Collection owner:xiaoya_gis>"
      ]
     },
     "execution_count": 20,
     "metadata": {},
     "output_type": "execute_result"
    }
   ],
   "source": [
    "river_feature_layer_item"
   ]
  },
  {
   "cell_type": "markdown",
   "metadata": {},
   "source": [
    "<a id=\"Routing-Analysis\"></a>\n",
    "### Routing Analysis\n",
    "\n",
    "In this part, we perform a **routing** analysis to figure out the best path to route emergency supplies from storage to the relief camps"
   ]
  },
  {
   "cell_type": "code",
   "execution_count": 33,
   "metadata": {},
   "outputs": [
    {
     "name": "stdout",
     "output_type": "stream",
     "text": [
      "password pls········\n"
     ]
    }
   ],
   "source": [
    "#kuaile180603\n",
    "import getpass\n",
    "developersUser = 'xiaoya_gis'\n",
    "developersPass =getpass.getpass(prompt='password pls')\n",
    "gis2 = GIS(\"https://www.arcgis.com\",develoersUser,develoersPass)"
   ]
  },
  {
   "cell_type": "code",
   "execution_count": 34,
   "metadata": {},
   "outputs": [
    {
     "data": {
      "text/html": [
       "<div>\n",
       "<style scoped>\n",
       "    .dataframe tbody tr th:only-of-type {\n",
       "        vertical-align: middle;\n",
       "    }\n",
       "\n",
       "    .dataframe tbody tr th {\n",
       "        vertical-align: top;\n",
       "    }\n",
       "\n",
       "    .dataframe thead th {\n",
       "        text-align: right;\n",
       "    }\n",
       "</style>\n",
       "<table border=\"1\" class=\"dataframe\">\n",
       "  <thead>\n",
       "    <tr style=\"text-align: right;\">\n",
       "      <th></th>\n",
       "      <th>ObjectId</th>\n",
       "      <th>SHAPE</th>\n",
       "      <th>名称</th>\n",
       "      <th>所在地</th>\n",
       "      <th>経度_10進法_</th>\n",
       "      <th>経度_60進法_</th>\n",
       "      <th>緯度_10進法_</th>\n",
       "      <th>緯度_60進法_</th>\n",
       "    </tr>\n",
       "  </thead>\n",
       "  <tbody>\n",
       "    <tr>\n",
       "      <th>0</th>\n",
       "      <td>1</td>\n",
       "      <td>{\"x\": 15532241.549099997, \"y\": 4254733.4540999...</td>\n",
       "      <td>調布基地跡地運動広場及び大沢総合グラウンド一部</td>\n",
       "      <td>調布市西町</td>\n",
       "      <td>139.526484</td>\n",
       "      <td>139゜31'35.34\"</td>\n",
       "      <td>35.668392</td>\n",
       "      <td>35゜40'06.21\"</td>\n",
       "    </tr>\n",
       "    <tr>\n",
       "      <th>1</th>\n",
       "      <td>2</td>\n",
       "      <td>{\"x\": 15534188.549000002, \"y\": 4255601.4781000...</td>\n",
       "      <td>都立神代植物公園周辺及び自由広場</td>\n",
       "      <td>調布市深大寺元町5-31-10</td>\n",
       "      <td>139.549247</td>\n",
       "      <td>139゜32'57.29\"</td>\n",
       "      <td>35.670815</td>\n",
       "      <td>35゜40'14.93\"</td>\n",
       "    </tr>\n",
       "    <tr>\n",
       "      <th>2</th>\n",
       "      <td>3</td>\n",
       "      <td>{\"x\": 15531896.759000003, \"y\": 4252089.6631999...</td>\n",
       "      <td>多摩川河川敷（第１区）周辺（府中市境～多摩川原橋）</td>\n",
       "      <td>調布市多摩川2-7</td>\n",
       "      <td>139.525410</td>\n",
       "      <td>139゜31'31.48\"</td>\n",
       "      <td>35.645660</td>\n",
       "      <td>35゜38'44.38\"</td>\n",
       "    </tr>\n",
       "    <tr>\n",
       "      <th>3</th>\n",
       "      <td>4</td>\n",
       "      <td>{\"x\": 15533258.808700005, \"y\": 4251521.3188000...</td>\n",
       "      <td>多摩川河川敷（第２区）周辺（多摩川原橋～二ヶ領堰）</td>\n",
       "      <td>調布市多摩川5-32</td>\n",
       "      <td>139.537489</td>\n",
       "      <td>139゜32'14.96\"</td>\n",
       "      <td>35.640837</td>\n",
       "      <td>35゜38'27.01\"</td>\n",
       "    </tr>\n",
       "    <tr>\n",
       "      <th>4</th>\n",
       "      <td>5</td>\n",
       "      <td>{\"x\": 15534953.480899995, \"y\": 4250909.8575000...</td>\n",
       "      <td>多摩川河川敷（第３区）周辺（二ヶ領堰～狛江市境）</td>\n",
       "      <td>調布市染地2-51</td>\n",
       "      <td>139.553918</td>\n",
       "      <td>139゜33'14.10\"</td>\n",
       "      <td>35.636687</td>\n",
       "      <td>35゜38'12.07\"</td>\n",
       "    </tr>\n",
       "  </tbody>\n",
       "</table>\n",
       "</div>"
      ],
      "text/plain": [
       "   ObjectId                                              SHAPE  \\\n",
       "0         1  {\"x\": 15532241.549099997, \"y\": 4254733.4540999...   \n",
       "1         2  {\"x\": 15534188.549000002, \"y\": 4255601.4781000...   \n",
       "2         3  {\"x\": 15531896.759000003, \"y\": 4252089.6631999...   \n",
       "3         4  {\"x\": 15533258.808700005, \"y\": 4251521.3188000...   \n",
       "4         5  {\"x\": 15534953.480899995, \"y\": 4250909.8575000...   \n",
       "\n",
       "                          名称              所在地    経度_10進法_       経度_60進法_  \\\n",
       "0    調布基地跡地運動広場及び大沢総合グラウンド一部            調布市西町  139.526484  139゜31'35.34\"   \n",
       "1           都立神代植物公園周辺及び自由広場  調布市深大寺元町5-31-10  139.549247  139゜32'57.29\"   \n",
       "2  多摩川河川敷（第１区）周辺（府中市境～多摩川原橋）        調布市多摩川2-7  139.525410  139゜31'31.48\"   \n",
       "3  多摩川河川敷（第２区）周辺（多摩川原橋～二ヶ領堰）       調布市多摩川5-32  139.537489  139゜32'14.96\"   \n",
       "4   多摩川河川敷（第３区）周辺（二ヶ領堰～狛江市境）        調布市染地2-51  139.553918  139゜33'14.10\"   \n",
       "\n",
       "    緯度_10進法_      緯度_60進法_  \n",
       "0  35.668392  35゜40'06.21\"  \n",
       "1  35.670815  35゜40'14.93\"  \n",
       "2  35.645660  35゜38'44.38\"  \n",
       "3  35.640837  35゜38'27.01\"  \n",
       "4  35.636687  35゜38'12.07\"  "
      ]
     },
     "execution_count": 34,
     "metadata": {},
     "output_type": "execute_result"
    }
   ],
   "source": [
    "routemap = gis2.map(\"東京都\",12)\n",
    "routemap.add_layer(river_feature_layer_item)\n",
    "route_data = river_feature_layer_item.layers[0].query().sdf\n",
    "route_data.head()"
   ]
  },
  {
   "cell_type": "code",
   "execution_count": 40,
   "metadata": {},
   "outputs": [
    {
     "data": {
      "text/plain": [
       "(10, 8)"
      ]
     },
     "execution_count": 40,
     "metadata": {},
     "output_type": "execute_result"
    }
   ],
   "source": [
    "route_data.shape"
   ]
  },
  {
   "cell_type": "code",
   "execution_count": 35,
   "metadata": {},
   "outputs": [
    {
     "data": {
      "application/vnd.jupyter.widget-view+json": {
       "model_id": "3abdddbdf51741ef868b4baf10fbb3dc",
       "version_major": 2,
       "version_minor": 0
      },
      "text/plain": [
       "MapView(layout=Layout(height='400px', width='100%'), zoom=12.0)"
      ]
     },
     "metadata": {},
     "output_type": "display_data"
    },
    {
     "data": {
      "text/html": [
       "<div class=\"map-static-img-preview-acb46feb-7062-4392-b78f-ff82517aafe0\"><img src=\"\"></img></div>"
      ],
      "text/plain": [
       "<IPython.core.display.HTML object>"
      ]
     },
     "metadata": {},
     "output_type": "display_data"
    }
   ],
   "source": [
    "routemap"
   ]
  },
  {
   "cell_type": "code",
   "execution_count": 36,
   "metadata": {},
   "outputs": [],
   "source": [
    "we = geocode('東京都狛江市和泉本町４-11-1')[0] #Jikei University 3rd Hospital東京慈恵会医科大学附属第三病院\n",
    "routemap.draw(we, {\"title\": \"hispital\", \"content\": \"some Center\"})"
   ]
  },
  {
   "cell_type": "code",
   "execution_count": 37,
   "metadata": {},
   "outputs": [],
   "source": [
    "from arcgis import features\n",
    "import datetime"
   ]
  },
  {
   "cell_type": "code",
   "execution_count": 38,
   "metadata": {},
   "outputs": [],
   "source": [
    "features.use_proximity.plan_routes?"
   ]
  },
  {
   "cell_type": "code",
   "execution_count": 39,
   "metadata": {},
   "outputs": [
    {
     "name": "stderr",
     "output_type": "stream",
     "text": [
      "The following restriction attributes are not valid and were ignored: \"Avoid Carpool Roads, Avoid Express Lanes, Avoid Gates, Roads Under Construction Prohibited, Through Traffic Prohibited, Avoid Private Roads, Avoid Unpaved Roads\".\n",
      "The attribute name, \"Any Hazmat Prohibited\", used with parameter name, \"Restriction Usage\", is not valid and was ignored.\n",
      "The attribute name, \"Avoid Carpool Roads\", used with parameter name, \"Restriction Usage\", is not valid and was ignored.\n",
      "The attribute name, \"Avoid Express Lanes\", used with parameter name, \"Restriction Usage\", is not valid and was ignored.\n",
      "The attribute name, \"Avoid Gates\", used with parameter name, \"Restriction Usage\", is not valid and was ignored.\n",
      "The attribute name, \"Avoid Private Roads\", used with parameter name, \"Restriction Usage\", is not valid and was ignored.\n",
      "The attribute name, \"Avoid Roads Unsuitable for Pedestrians\", used with parameter name, \"Restriction Usage\", is not valid and was ignored.\n",
      "The attribute name, \"Avoid Stairways\", used with parameter name, \"Restriction Usage\", is not valid and was ignored.\n",
      "The attribute name, \"Avoid Toll Roads for Trucks\", used with parameter name, \"Restriction Usage\", is not valid and was ignored.\n",
      "The attribute name, \"Avoid Truck Restricted Roads\", used with parameter name, \"Restriction Usage\", is not valid and was ignored.\n",
      "The attribute name, \"Avoid Unpaved Roads\", used with parameter name, \"Restriction Usage\", is not valid and was ignored.\n",
      "The attribute name, \"Axle Count Restriction\", used with parameter name, \"Number of Axles\", is not valid and was ignored.\n",
      "The attribute name, \"Axle Count Restriction\", used with parameter name, \"Restriction Usage\", is not valid and was ignored.\n",
      "The attribute name, \"Height Restriction\", used with parameter name, \"Restriction Usage\", is not valid and was ignored.\n",
      "The attribute name, \"Height Restriction\", used with parameter name, \"Vehicle Height (meters)\", is not valid and was ignored.\n",
      "The attribute name, \"Kingpin to Rear Axle Length Restriction\", used with parameter name, \"Restriction Usage\", is not valid and was ignored.\n",
      "The attribute name, \"Kingpin to Rear Axle Length Restriction\", used with parameter name, \"Vehicle Kingpin to Rear Axle Length (meters)\", is not valid and was ignored.\n",
      "The attribute name, \"Length Restriction\", used with parameter name, \"Restriction Usage\", is not valid and was ignored.\n",
      "The attribute name, \"Length Restriction\", used with parameter name, \"Vehicle Length (meters)\", is not valid and was ignored.\n",
      "The attribute name, \"Preferred for Pedestrians\", used with parameter name, \"Restriction Usage\", is not valid and was ignored.\n",
      "The attribute name, \"Roads Under Construction Prohibited\", used with parameter name, \"Restriction Usage\", is not valid and was ignored.\n",
      "The attribute name, \"Semi or Tractor with One or More Trailers Prohibited\", used with parameter name, \"Restriction Usage\", is not valid and was ignored.\n",
      "The attribute name, \"Single Axle Vehicles Prohibited\", used with parameter name, \"Restriction Usage\", is not valid and was ignored.\n",
      "The attribute name, \"Tandem Axle Vehicles Prohibited\", used with parameter name, \"Restriction Usage\", is not valid and was ignored.\n",
      "The attribute name, \"Through Traffic Prohibited\", used with parameter name, \"Restriction Usage\", is not valid and was ignored.\n",
      "The attribute parameter, \"Vehicle Maximum Speed (km/h)\", for the attribute, \"TravelTime\", is not valid and was ignored.\n",
      "The attribute name, \"Truck with Trailers Restriction\", used with parameter name, \"Number of Trailers on Truck\", is not valid and was ignored.\n",
      "The attribute name, \"Truck with Trailers Restriction\", used with parameter name, \"Restriction Usage\", is not valid and was ignored.\n",
      "The attribute name, \"Use Preferred Hazmat Routes\", used with parameter name, \"Restriction Usage\", is not valid and was ignored.\n",
      "The attribute name, \"Use Preferred Truck Routes\", used with parameter name, \"Restriction Usage\", is not valid and was ignored.\n",
      "The attribute name, \"Weight Restriction\", used with parameter name, \"Restriction Usage\", is not valid and was ignored.\n",
      "The attribute name, \"Weight Restriction\", used with parameter name, \"Vehicle Weight (kilograms)\", is not valid and was ignored.\n",
      "The attribute name, \"Weight per Axle Restriction\", used with parameter name, \"Restriction Usage\", is not valid and was ignored.\n",
      "The attribute name, \"Weight per Axle Restriction\", used with parameter name, \"Vehicle Weight per Axle (kilograms)\", is not valid and was ignored.\n",
      "The attribute name, \"Width Restriction\", used with parameter name, \"Restriction Usage\", is not valid and was ignored.\n",
      "The attribute name, \"Width Restriction\", used with parameter name, \"Vehicle Width (meters)\", is not valid and was ignored.\n",
      "The following restriction attributes are not valid and were ignored: \"Avoid Carpool Roads, Avoid Express Lanes, Avoid Gates, Roads Under Construction Prohibited, Through Traffic Prohibited, Avoid Private Roads, Avoid Unpaved Roads\".\n",
      "Input field [OID] was not mapped to a field in the network analysis class \"Orders\".\n",
      "Input field [OID] was not mapped to a field in the network analysis class \"Depots\".\n",
      "Some orders could not be routed due to violated constraints.\n",
      "Partial solution generated.\n",
      "{\"messageCode\": \"AO_100115\", \"message\": \"Some stops were not assigned to any routes. Check the Violated Constraints field in the output unassigned stops layer for more information.\"}\n"
     ]
    }
   ],
   "source": [
    "start_time = datetime.datetime(2018, 12, 13, 9, 0)\n",
    "routes = features.use_proximity.plan_routes(\n",
    "    river_feature_layer_item, \n",
    "    2, \n",
    "    5, \n",
    "    start_time, \n",
    "    we, \n",
    "    stop_service_time=20)\n",
    "routemap.add_layer(routes['routes_layer'])\n",
    "routemap.add_layer(routes['assigned_stops_layer'])"
   ]
  },
  {
   "cell_type": "markdown",
   "metadata": {},
   "source": [
    "<a id=\"using-folders-to-organize-your-content\"></a>\n",
    "### Using folders to organize your content\n",
    "Over time, your GIS can get filled with content. You can create folders on your GIS, just like in your file system, and use it to organize.\n",
    "The `create_folder()` and `delete_folder()` methods available on the `ContentManager` class can be used to manage your folders. Once created, you can use the `move()` method to move content into and out of folders.\n",
    "\n",
    "Let us create a folder called 'ports' and move the `ports_item` into it "
   ]
  },
  {
   "cell_type": "code",
   "execution_count": null,
   "metadata": {},
   "outputs": [],
   "source": [
    "# create new folder\n",
    "gis.content.create_folder(folder= 'travel_plan')"
   ]
  },
  {
   "cell_type": "code",
   "execution_count": null,
   "metadata": {},
   "outputs": [],
   "source": [
    "# move  into this folder\n",
    "river_feature_layer_item.move(folder= 'travel_plan')"
   ]
  },
  {
   "cell_type": "markdown",
   "metadata": {},
   "source": [
    "You can move content out of folders to root by calling the `move()` method and specifying `/` as folder name"
   ]
  },
  {
   "cell_type": "code",
   "execution_count": null,
   "metadata": {},
   "outputs": [],
   "source": [
    "# move back to root\n",
    "river_feature_layer_item.move(folder='/')"
   ]
  }
 ],
 "metadata": {
  "anaconda-cloud": {},
  "kernelspec": {
   "display_name": "Python 3",
   "language": "python",
   "name": "python3"
  },
  "language_info": {
   "codemirror_mode": {
    "name": "ipython",
    "version": 3
   },
   "file_extension": ".py",
   "mimetype": "text/x-python",
   "name": "python",
   "nbconvert_exporter": "python",
   "pygments_lexer": "ipython3",
   "version": "3.6.7"
  }
 },
 "nbformat": 4,
 "nbformat_minor": 1
}
