{
 "cells": [
  {
   "cell_type": "markdown",
   "metadata": {},
   "source": [
    "______\n",
    "<img style=\"float: right;\" src=\"./images/headerlogo.png\">\n",
    "## Google Earth Engine Tutorial\n",
    "### Installation\n",
    "_____\n",
    "\n"
   ]
  },
  {
   "cell_type": "markdown",
   "metadata": {},
   "source": [
    "This tutorial includes basic operations that can be executed using the Pyhton API of Google Earth Engine (GEE) on Windows. \n",
    "GEE is a cloud platform to perform large scale analysis on Earth science data."
   ]
  },
  {
   "cell_type": "markdown",
   "metadata": {},
   "source": [
    "## Python API Installation "
   ]
  },
  {
   "cell_type": "markdown",
   "metadata": {},
   "source": [
    "\n",
    "Before the installation, you should sign up in GEE. \n",
    "This can be done in: https://signup.earthengine.google.com.\n",
    "\n",
    "We will use python 3.5 or higher and pip.\n",
    "Visit https://www.python.org/ for instructions on python installation and https://pip.pypa.io/en/stable/installing/ for instructions on pip installation. \n",
    "Ensure you have upgraded pip (you can run in a console: <i>python -m pip install -U pip</i>)   \n",
    "\n",
    "In a windows console, execute the following steps:\n",
    "\n",
    "(1) pip install google-api-python-client: <br>\n",
    "\n",
    "![alt text](./images/step1_inst.png)"
   ]
  },
  {
   "cell_type": "markdown",
   "metadata": {},
   "source": [
    "(2) pip install earthengine-api  <br>\n",
    "![alt text](./images/step2_inst.png)"
   ]
  },
  {
   "cell_type": "markdown",
   "metadata": {},
   "source": [
    "(3) earthengine authenticate  <br>\n",
    "![alt text](./images/step_3_inst.png)\n"
   ]
  },
  {
   "cell_type": "markdown",
   "metadata": {},
   "source": [
    "(4) The above instruction will open a browser and request to sign using your google account (if you are not already signed). <br>\n",
    "![alt text](./images/step4_inst.png) "
   ]
  },
  {
   "cell_type": "markdown",
   "metadata": {},
   "source": [
    "(5) The GEE athenticator will also ask for permission to manage your data.  <br> \n",
    "![alt text](./images/step5_inst.png)"
   ]
  },
  {
   "cell_type": "markdown",
   "metadata": {},
   "source": [
    "(6) After giving permission, GEE will provide a token. <br>\n",
    "\n",
    "![alt text](./images/step6_inst.png)"
   ]
  },
  {
   "cell_type": "markdown",
   "metadata": {},
   "source": [
    "(7) Copy the token and paste in the windows console  <br>\n",
    "![alt text](./images/step7_inst.png)"
   ]
  },
  {
   "cell_type": "markdown",
   "metadata": {},
   "source": [
    "(8) The authorisation code is saved and you can start to use the GEE python API.  <br>\n",
    "![alt text](./images/step8_inst.png)<br>\n",
    "This authentication process creates a credential file located typically in: <br>\n",
    "<i>C:\\Users\\username\\.config\\earthengine</i> \n",
    "![alt text](./images/step9_inst.png)<br>\n",
    "This credential is related to the specific google account used during login (step 4).<br>\n"
   ]
  },
  {
   "cell_type": "markdown",
   "metadata": {},
   "source": [
    "### Testing your installation\n"
   ]
  },
  {
   "cell_type": "markdown",
   "metadata": {},
   "source": [
    "In a new python file, copy and paste the following code: <br>"
   ]
  },
  {
   "cell_type": "markdown",
   "metadata": {},
   "source": [
    "#Import the Earth Engine Python Package <br>\n",
    "<i><b>import ee </b></i><br>\n",
    "#Initialize the Earth Engine object <br>\n",
    "<i><b> ee.Initialize() </b></i><br>\n",
    "#Print the information for an image asset. <br>\n",
    "<i><b> image = ee.Image('srtm90_v4')</b></i> <br>\n",
    "<i><b> print(image.getInfo()) </b></i> <br>"
   ]
  },
  {
   "cell_type": "markdown",
   "metadata": {},
   "source": [
    "The above command should produce an output like this:<br>\n",
    "![alt text](./images/out_test_install_gee.png \"Testing GEE installation\")\n"
   ]
  },
  {
   "cell_type": "code",
   "execution_count": null,
   "metadata": {
    "collapsed": true
   },
   "outputs": [],
   "source": []
  }
 ],
 "metadata": {
  "kernelspec": {
   "display_name": "Python 3",
   "language": "python",
   "name": "python3"
  },
  "language_info": {
   "codemirror_mode": {
    "name": "ipython",
    "version": 3
   },
   "file_extension": ".py",
   "mimetype": "text/x-python",
   "name": "python",
   "nbconvert_exporter": "python",
   "pygments_lexer": "ipython3",
   "version": "3.6.8"
  }
 },
 "nbformat": 4,
 "nbformat_minor": 2
}
