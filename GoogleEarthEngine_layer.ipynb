{
 "cells": [
  {
   "cell_type": "markdown",
   "metadata": {},
   "source": [
    "# Google Earth Engine Tile Layers in Folium"
   ]
  },
  {
   "cell_type": "code",
   "execution_count": 2,
   "metadata": {},
   "outputs": [
    {
     "name": "stdout",
     "output_type": "stream",
     "text": [
      "0.8.3\n"
     ]
    }
   ],
   "source": [
    "import ee\n",
    "import folium\n",
    "\n",
    "ee.Initialize()\n",
    "print(folium.__version__)"
   ]
  },
  {
   "cell_type": "code",
   "execution_count": 3,
   "metadata": {},
   "outputs": [],
   "source": [
    "def folium_gee_map(image,vis_params=None,folium_kwargs={}):\n",
    "    \"\"\"\n",
    "    Function to view Google Earth Engine tile layer as a Folium map.\n",
    "    \n",
    "    Parameters\n",
    "    ----------\n",
    "    image : Google Earth Engine Image.\n",
    "    vis_params : Dict with visualization parameters.\n",
    "    folium_kwargs : Keyword args for Folium Map.\n",
    "    \"\"\"\n",
    "    \n",
    "    # Get the MapID and Token after applying parameters\n",
    "    image_info = image.getMapId(vis_params)\n",
    "    mapid = image_info['mapid']\n",
    "    token = image_info['token']\n",
    "    folium_kwargs['attr'] = ('Map Data &copy; <a href=\"https://earthengine.google.com/\">Google Earth Engine</a> ')\n",
    "    folium_kwargs['tiles'] = \"https://earthengine.googleapis.com/map/%s/{z}/{x}/{y}?token=%s\"%(mapid,token)\n",
    "    \n",
    "    return folium.Map(**folium_kwargs)\n",
    "\n",
    "def folium_gee_layer(folium_map,image,vis_params=None,folium_kwargs={}):\n",
    "    \"\"\"\n",
    "    Function to add Google Earch Engine tile layer as a Folium layer.\n",
    "    \n",
    "    Parameters\n",
    "    ----------\n",
    "    folium_map : Folium map to add tile to.\n",
    "    image : Google Earth Engine Image.\n",
    "    vis_params : Dict with visualization parameters.\n",
    "    folium_kwargs : Keyword args for Folium Map.\n",
    "    \"\"\"\n",
    "    \n",
    "    # Get the MapID and Token after applying parameters\n",
    "    image_info = image.getMapId(vis_params)\n",
    "    mapid = image_info['mapid']\n",
    "    token = image_info['token']\n",
    "    folium_kwargs['attr'] = ('Map Data &copy; <a href=\"https://earthengine.google.com/\">Google Earth Engine</a> ')\n",
    "    folium_kwargs['tiles'] = \"https://earthengine.googleapis.com/map/%s/{z}/{x}/{y}?token=%s\"%(mapid,token)\n",
    "    \n",
    "    layer = folium.TileLayer(**folium_kwargs)\n",
    "    layer.add_to(folium_map)"
   ]
  },
  {
   "cell_type": "code",
   "execution_count": 4,
   "metadata": {},
   "outputs": [
    {
     "data": {
      "text/html": [
       "<div style=\"width:100%;\"><div style=\"position:relative;width:100%;height:0;padding-bottom:60%;\"><iframe src=\"data:text/html;charset=utf-8;base64,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\" style=\"position:absolute;width:100%;height:100%;left:0;top:0;border:none !important;\" allowfullscreen webkitallowfullscreen mozallowfullscreen></iframe></div></div>"
      ],
      "text/plain": [
       "<folium.folium.Map at 0x18202c11630>"
      ]
     },
     "execution_count": 4,
     "metadata": {},
     "output_type": "execute_result"
    }
   ],
   "source": [
    "# Get an area to look at\n",
    "lat = 35.6908\n",
    "lon = 139.7064\n",
    "zoom_start=10\n",
    "\n",
    "# Open Street Map Base\n",
    "m = folium.Map(location=[lat, lon], tiles=\"OpenStreetMap\", zoom_start=zoom_start)\n",
    "\n",
    "# Add GEE Terrain Layer\n",
    "image = ee.Image('srtm90_v4')\n",
    "vis_params = {'min':0.0, 'max':3000, 'palette':'00FFFF,0000FF'}\n",
    "folium_gee_layer(m,image,vis_params=vis_params,folium_kwargs={'overlay':True,'name':'SRTM'})\n",
    "\n",
    "# Create a reference to the image collection\n",
    "l8 = ee.ImageCollection('LANDSAT/LC8_L1T_TOA')\n",
    "# Filter \n",
    "filtered = l8.filterDate('2013-05-01', '2018-05-15');\n",
    "# Use mosaic reducer\n",
    "l8_image = filtered.median()\n",
    "l8_vis_params = {'min': 0, 'max':0.3, 'bands':'B4,B3,B2'}\n",
    "folium_gee_layer(m,l8_image,l8_vis_params,folium_kwargs={'overlay':True,'name':'Visual'})\n",
    "m.add_child(folium.LayerControl())\n",
    "m"
   ]
  },
  {
   "cell_type": "code",
   "execution_count": 1,
   "metadata": {},
   "outputs": [
    {
     "ename": "NameError",
     "evalue": "name 'folium' is not defined",
     "output_type": "error",
     "traceback": [
      "\u001b[1;31m---------------------------------------------------------------------------\u001b[0m",
      "\u001b[1;31mNameError\u001b[0m                                 Traceback (most recent call last)",
      "\u001b[1;32m<ipython-input-1-c755afa2625c>\u001b[0m in \u001b[0;36m<module>\u001b[1;34m\u001b[0m\n\u001b[0;32m      5\u001b[0m \u001b[1;33m\u001b[0m\u001b[0m\n\u001b[0;32m      6\u001b[0m \u001b[1;31m# Open Street Map Base\u001b[0m\u001b[1;33m\u001b[0m\u001b[1;33m\u001b[0m\u001b[1;33m\u001b[0m\u001b[0m\n\u001b[1;32m----> 7\u001b[1;33m \u001b[0mm\u001b[0m \u001b[1;33m=\u001b[0m \u001b[0mfolium\u001b[0m\u001b[1;33m.\u001b[0m\u001b[0mMap\u001b[0m\u001b[1;33m(\u001b[0m\u001b[0mlocation\u001b[0m\u001b[1;33m=\u001b[0m\u001b[1;33m[\u001b[0m\u001b[0mlat\u001b[0m\u001b[1;33m,\u001b[0m \u001b[0mlon\u001b[0m\u001b[1;33m]\u001b[0m\u001b[1;33m,\u001b[0m \u001b[0mtiles\u001b[0m\u001b[1;33m=\u001b[0m\u001b[1;34m\"OpenStreetMap\"\u001b[0m\u001b[1;33m,\u001b[0m \u001b[0mzoom_start\u001b[0m\u001b[1;33m=\u001b[0m\u001b[0mzoom_start\u001b[0m\u001b[1;33m)\u001b[0m\u001b[1;33m\u001b[0m\u001b[1;33m\u001b[0m\u001b[0m\n\u001b[0m\u001b[0;32m      8\u001b[0m \u001b[1;33m\u001b[0m\u001b[0m\n\u001b[0;32m      9\u001b[0m \u001b[1;31m# Add GEE Terrain Layer\u001b[0m\u001b[1;33m\u001b[0m\u001b[1;33m\u001b[0m\u001b[1;33m\u001b[0m\u001b[0m\n",
      "\u001b[1;31mNameError\u001b[0m: name 'folium' is not defined"
     ]
    }
   ],
   "source": [
    "# Get an area to look at\n",
    "lat = 35.6908\n",
    "lon = 139.7064\n",
    "zoom_start=10\n",
    "\n",
    "# Open Street Map Base\n",
    "m = folium.Map(location=[lat, lon], tiles=\"OpenStreetMap\", zoom_start=zoom_start)\n",
    "\n",
    "# Add GEE Terrain Layer\n",
    "image = ee.Image('srtm90_v4')\n",
    "vis_params = {'min':0.0, 'max':3000, 'palette':'00FFFF,0000FF'}\n",
    "folium_gee_layer(m,image,vis_params=vis_params,folium_kwargs={'overlay':True,'name':'SRTM'})\n",
    "\n",
    "# Create a reference to the image collection\n",
    "l8 = ee.ImageCollection('NOAA/DMSP-OLS/CALIBRATED_LIGHTS_V4')\n",
    "# Filter \n",
    "filtered = l8.filterDate('2009-01-01', '2009-12-31');\n",
    "# Use mosaic reducer\n",
    "l8_image = filtered.median()\n",
    "l8_vis_params = {'min': 3, 'max':60.0, 'bands':'avg_vis'}\n",
    "folium_gee_layer(m,l8_image,l8_vis_params,folium_kwargs={'overlay':True,'name':'Visual'})\n",
    "\n",
    "folium_gee_layer(m,l8)\n",
    "m.add_child(folium.LayerControl())\n",
    "m"
   ]
  },
  {
   "cell_type": "code",
   "execution_count": null,
   "metadata": {},
   "outputs": [],
   "source": []
  }
 ],
 "metadata": {
  "anaconda-cloud": {},
  "kernelspec": {
   "display_name": "Python 3",
   "language": "python",
   "name": "python3"
  },
  "language_info": {
   "codemirror_mode": {
    "name": "ipython",
    "version": 3
   },
   "file_extension": ".py",
   "mimetype": "text/x-python",
   "name": "python",
   "nbconvert_exporter": "python",
   "pygments_lexer": "ipython3",
   "version": "3.6.8"
  },
  "toc": {
   "base_numbering": 1,
   "nav_menu": {},
   "number_sections": true,
   "sideBar": true,
   "skip_h1_title": false,
   "title_cell": "Table of Contents",
   "title_sidebar": "Contents",
   "toc_cell": false,
   "toc_position": {},
   "toc_section_display": true,
   "toc_window_display": false
  }
 },
 "nbformat": 4,
 "nbformat_minor": 2
}
